{
 "cells": [
  {
   "cell_type": "code",
   "execution_count": 2,
   "metadata": {},
   "outputs": [],
   "source": [
    "import csv\n",
    "import urllib.request\n",
    "from bs4 import BeautifulSoup\n",
    "import re\n",
    "\n",
    "#csv파일로부터 뉴스 url 읽어와서 리스트꼴로([[0],[1]..])\n",
    "f = open(\"DongaNewsUrls.csv\",'r')\n",
    "reader = csv.reader(f)\n",
    "urlbox = [row for row in reader]\n",
    "f.close()\n",
    "\n",
    "#제목, 본문 긁어오기\n",
    "titlebox = []\n",
    "textbox = []\n",
    "for i in range(len(urlbox)):\n",
    "    url = urlbox[i][0]\n",
    "    html = urllib.request.urlopen(url).read()\n",
    "    soup = BeautifulSoup(html, 'html.parser')\n",
    "      #제목 긁어오기(제목의 내용이 포인트니까 더 강조한다고 생각하여 제목도 포함)\n",
    "    title = soup.find_all(\"h1\", class_=\"title\")\n",
    "    for q in range(len(title)):\n",
    "        titleNoTag = re.sub('<.+?>','',str(title),0)#<h1> 태그 제거\n",
    "        titleNoList = titleNoTag.replace('[','').replace(']','') #[]제거\n",
    "        titlebox.append(titleNoList)\n",
    "    #본문 긁어오기\n",
    "    text = soup.find_all(\"div\", class_= \"article_txt\")\n",
    "    for q in range(len(text)):\n",
    "        textNoTag = re.sub('<.+?>','',str(text),0)\n",
    "        textNoList = textNoTag.replace('[','').replace(']','')\n",
    "        textCleaning1 = re.sub('[a-zA-Z]','',textNoList) #영어 제거\n",
    "        textCleaning2 = re.sub('[-=+,#/\\?:^$.@*\\\"※~&%ㆍ!』\\\\‘|\\(\\)\\[\\]\\<\\>`\\'…》}{_\\n\\r]','',textCleaning1) #특수문자제거\n",
    "        textbox.append(textCleaning2)\n",
    "        \n",
    "#제목과 본문 합치기\n",
    "TitleAndText = titlebox + textbox\n",
    "\n",
    "#text 파일로 만들기\n",
    "with open(\"TitleAndText.txt\",\"w\", encoding = \"utf-8\") as f:\n",
    "    f.writelines(TitleAndText)\n",
    "        \n"
   ]
  },
  {
   "cell_type": "code",
   "execution_count": null,
   "metadata": {},
   "outputs": [],
   "source": []
  }
 ],
 "metadata": {
  "kernelspec": {
   "display_name": "Python 3",
   "language": "python",
   "name": "python3"
  },
  "language_info": {
   "codemirror_mode": {
    "name": "ipython",
    "version": 3
   },
   "file_extension": ".py",
   "mimetype": "text/x-python",
   "name": "python",
   "nbconvert_exporter": "python",
   "pygments_lexer": "ipython3",
   "version": "3.7.6"
  }
 },
 "nbformat": 4,
 "nbformat_minor": 4
}
