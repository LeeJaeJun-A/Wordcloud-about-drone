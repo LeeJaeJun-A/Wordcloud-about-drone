{
 "cells": [
  {
   "cell_type": "code",
   "execution_count": 17,
   "metadata": {},
   "outputs": [],
   "source": [
    "import sys\n",
    "from konlpy.tag import Okt\n",
    "from collections import Counter\n",
    "\n",
    "with open('TitleAndText.txt','r', encoding= 'utf-8') as f:\n",
    "    str1 = f.readlines()\n",
    "\n",
    "#명사 분리 후 빈도 계산 함수\n",
    "def get_tag(text, ntags =50): #상위 50개의 명사만 결과값으로 반환\n",
    "    spliter = Okt() # Twitter  객체 생성(Twitter가 Okt로 바뀌었다고 함)\n",
    "    nouns = spliter.nouns(text[0]) \n",
    "    count = Counter(nouns)\n",
    "    return_list = []\n",
    "    for n , c in count.most_common(ntags):\n",
    "        temp = {'tag': n , 'count': c}\n",
    "        return_list.append(temp)\n",
    "    return return_list\n",
    "\n",
    "\n",
    "tags = get_tag(str1, 50) #리스트를 그냥 넣으면 에러가 나고 text[0]으로 하니까 됨\n",
    "open_output_txt = open('VerbAnalysis.txt', 'w')\n",
    "for tag in tags:\n",
    "    noun = tag['tag']\n",
    "    count = tag['count']\n",
    "    open_output_txt.write('{} {}\\n'.format(noun, count))\n",
    "open_output_txt.close()"
   ]
  }
 ],
 "metadata": {
  "kernelspec": {
   "display_name": "Python 3",
   "language": "python",
   "name": "python3"
  },
  "language_info": {
   "codemirror_mode": {
    "name": "ipython",
    "version": 3
   },
   "file_extension": ".py",
   "mimetype": "text/x-python",
   "name": "python",
   "nbconvert_exporter": "python",
   "pygments_lexer": "ipython3",
   "version": "3.7.6"
  }
 },
 "nbformat": 4,
 "nbformat_minor": 4
}
