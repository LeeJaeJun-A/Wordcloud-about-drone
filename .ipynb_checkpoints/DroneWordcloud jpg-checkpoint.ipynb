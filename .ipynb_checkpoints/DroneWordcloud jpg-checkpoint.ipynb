{
 "cells": [
  {
   "cell_type": "code",
   "execution_count": 37,
   "metadata": {},
   "outputs": [
    {
     "data": {
      "text/plain": [
       "<wordcloud.wordcloud.WordCloud at 0x1f53efb32c8>"
      ]
     },
     "execution_count": 37,
     "metadata": {},
     "output_type": "execute_result"
    }
   ],
   "source": [
    "from wordcloud import WordCloud\n",
    "import matplotlib.pyplot as plt\n",
    "from PIL import Image\n",
    "import random\n",
    "import numpy as np\n",
    "\n",
    "#텍스트 파일 불러서 dictionary 형태로\n",
    "with open('VerbAnalysis(modified version).txt','r',) as f:\n",
    "    vocdict = {}\n",
    "    for voc in f:\n",
    "        keyvalue = voc.strip().split(\" \")\n",
    "        vocdict[keyvalue[0]] = int(keyvalue[1]) #숫자가 str꼴이면 generate_from_frequencies가 작동안함\n",
    "        \n",
    "#wordcloud 제작\n",
    "\n",
    "icon = Image.open(\"pngwing.com.png\")\n",
    "mask = Image.new(\"RGB\", icon.size, (255,255,255))\n",
    "mask.paste(icon, icon)\n",
    "mask = np.array(mask)\n",
    "wordcloud = WordCloud(font_path = 'C:/Users/msi/Desktop/wordcloud aobut drone project/NanumGothic.ttf' , background_color='white', colormap =\"Accent_r\", mask = mask, max_font_size=300, random_state=42)\n",
    "wc_img = wordcloud.generate_from_frequencies(vocdict)\n",
    "wc_img.to_file('DroneWordcloud.jpg')"
   ]
  }
 ],
 "metadata": {
  "kernelspec": {
   "display_name": "Python 3",
   "language": "python",
   "name": "python3"
  },
  "language_info": {
   "codemirror_mode": {
    "name": "ipython",
    "version": 3
   },
   "file_extension": ".py",
   "mimetype": "text/x-python",
   "name": "python",
   "nbconvert_exporter": "python",
   "pygments_lexer": "ipython3",
   "version": "3.7.6"
  }
 },
 "nbformat": 4,
 "nbformat_minor": 4
}
