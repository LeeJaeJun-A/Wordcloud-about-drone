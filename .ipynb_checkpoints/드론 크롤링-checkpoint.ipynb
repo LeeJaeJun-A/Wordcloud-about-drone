{
 "cells": [
  {
   "cell_type": "code",
   "execution_count": null,
   "metadata": {},
   "outputs": [],
   "source": [
    "from bs4 import BeautifulSoup\n",
    "import urllib.request\n",
    "\n",
    "#각 페이지 url 가져오기\n",
    "pageurl = {'page1': 'https://search.naver.com/search.naver?where=news&sm=tab_jum&query=%EB%93%9C%EB%A1%A0'}\n",
    "#각 기사 url을 담을 리스트\n",
    "url = []\n",
    "Max_url = 10\n",
    "pagename = list(pageurl.values())\n",
    "\n",
    "#각 기사의 url을 담기\n",
    "while len(url) < Max_url:\n",
    "    for i in pagename:\n",
    "        html = urllib.request.urlopen(i).read() #\n",
    "        soup = BeautifulSoup(html, 'html.parser')\n",
    "        findurl = soup.find_all(style = \"text-decoration:none;display:block\")\n",
    "        for q in findurl:\n",
    "            url.append(q.attrs['href'])\n",
    "\n",
    "        "
   ]
  },
  {
   "cell_type": "code",
   "execution_count": null,
   "metadata": {},
   "outputs": [],
   "source": []
  },
  {
   "cell_type": "code",
   "execution_count": null,
   "metadata": {},
   "outputs": [],
   "source": []
  },
  {
   "cell_type": "code",
   "execution_count": null,
   "metadata": {},
   "outputs": [],
   "source": [
    "<a style=\"text-decoration:none;display:block\" href=\"https://www.chosun.com/national/court_law/2020/10/07/JDSF7L2JNZGTZKUIKOB4UWESOY/\" data-ved=\"0ahUKEwjA6PaSvaLsAhWXQN4KHXJUAiwQxfQBCC4wAA\" ping=\"/url?sa=t&amp;source=web&amp;rct=j&amp;url=https://www.chosun.com/national/court_law/2020/10/07/JDSF7L2JNZGTZKUIKOB4UWESOY/&amp;ved=0ahUKEwjA6PaSvaLsAhWXQN4KHXJUAiwQxfQBCC4wAA\"><div class=\"yr3B8d KWQBje\"><div class=\"vC5xic\"><div class=\"sYpfDb\" style=\"width:112px;height:112px\"><div class=\"qV9w7d\" style=\"height:112px;border-radius:8px\"><div class=\"KNcnob\" style=\"height:112px;width:112px;background-color:#f9f9f9\"><g-img><img id=\"dimg_11\" src=\"data:image/png;base64,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\" class=\"rISBZc M4dUYb\" height=\"112\" width=\"112\" alt=\"\" data-atf=\"1\"></g-img></div></div></div></div><div class=\"hI5pFf\"><div class=\"XTjFC WF4CUc\"><g-img class=\"QyR1Ze\"><img id=\"dimg_13\" src=\"data:image/png;base64,iVBORw0KGgoAAAANSUhEUgAAABAAAAAQCAMAAAAoLQ9TAAAAY1BMVEVHcEy5NDbgIie3IybqISncIifsISzrISnoISfdIynXHiW9Iya3IybZwLu4LTDrISvrISvoISfLUVHfIin8IC+2ISS2IybSop+2IiXGcXDrISm2ICPKISa9UlLVIyjDISXPk5H0zt3qAAAAGnRSTlMA/mheeBUK6f78PCp3Q5NZqNOIyAVUu6Pi++vUj6AAAABqSURBVBiVjU9JEoAgDBNlVXFfy+b/XymiM8KNXNo0aaYtilzUfUIxAI4oZQAD/fkCwGjsn7lI9htry2TQOle/HQd4pA6hLvDRZz11Vee1SzkJbyBBORQyRmnBGflSNuWhRXQaqdqqyf7yBkaWBPAs0TeGAAAAAElFTkSuQmCC\" class=\"rISBZc M4dUYb\" height=\"16\" width=\"16\" alt=\"\" data-atf=\"1\"></g-img>조선일보</div><div class=\"JheGif nDgy9d\" aria-level=\"2\" role=\"heading\" style=\"-webkit-line-clamp:2\">[단독]한밤 아파트 창가로 날아온 드론, 성관계 장면 찍고 사라졌다</div><div class=\"yJHHTd\"><div class=\"Y3v8qd\">드론이었다. 누가 조종하는지 모를 이 드론은 수십 분간 고층 아파트 두 개 동을 아래위로 반복해서 훑듯이 날다가 어느 순간 한 집의 \n",
    "창문 앞에서 ...</div><div class=\"wxp1Sb\"><span class=\"YCV9ed isfR2\"><span class=\"WG9SHc\"><span>6시간 전</span></span></span></div></div></div></div></a>"
   ]
  }
 ],
 "metadata": {
  "kernelspec": {
   "display_name": "Python 3",
   "language": "python",
   "name": "python3"
  }
 },
 "nbformat": 4,
 "nbformat_minor": 4
}
