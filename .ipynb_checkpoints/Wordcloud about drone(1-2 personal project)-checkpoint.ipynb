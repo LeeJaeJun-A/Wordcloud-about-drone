{
 "cells": [
  {
   "cell_type": "markdown",
   "metadata": {},
   "source": [
    "# 드론과 관련된 인식 분석 연구"
   ]
  },
  {
   "cell_type": "markdown",
   "metadata": {},
   "source": [
    "## 프로젝트 목표 및 계획"
   ]
  },
  {
   "cell_type": "markdown",
   "metadata": {},
   "source": [
    "웹 사이트에서 직접 크롤링을 통해 데이터를 획득한 뒤 가공하며 wordcloud 방식으로 시각화하여 드론과 관련된 키워드들을 뽑아 드론에 대한 인식을 분석한다."
   ]
  },
  {
   "cell_type": "markdown",
   "metadata": {},
   "source": [
    "## 주제 선정 이유"
   ]
  },
  {
   "cell_type": "markdown",
   "metadata": {},
   "source": [
    "고등학교 2학년 자율동아리에서 드론에 관한 인식에 대한 발표를 했는데 그것의 연장선으로 구체적으로 조사해보기 위해 주제를 선정하였다."
   ]
  },
  {
   "cell_type": "markdown",
   "metadata": {},
   "source": [
    "## 가설 정의"
   ]
  },
  {
   "cell_type": "markdown",
   "metadata": {},
   "source": [
    "웹 사이트에서 드론을 검색했을 때 함께 나오는 단어들을 분석하고 시각화하면 관련된 키워드들을 꼽을 수 있을 것이고 그것이 드론의 인식과 관련있을 것이다."
   ]
  },
  {
   "cell_type": "markdown",
   "metadata": {},
   "source": [
    "## 데이터 획득 및 가공"
   ]
  },
  {
   "cell_type": "markdown",
   "metadata": {},
   "source": [
    "크롤링"
   ]
  },
  {
   "cell_type": "markdown",
   "metadata": {},
   "source": [
    "## 분석 결과 도출 및 시각화"
   ]
  },
  {
   "cell_type": "markdown",
   "metadata": {},
   "source": []
  },
  {
   "cell_type": "markdown",
   "metadata": {},
   "source": [
    "## 한계점"
   ]
  },
  {
   "cell_type": "markdown",
   "metadata": {},
   "source": [
    "1. 구글 뉴스로 하려다가 http404에러가 떠서 헤더를 추가해서 사용하려고 했지만 잘 안되어 네이버 뉴스로 방향을 틈\n",
    "2. 뉴스의 각 페이지마다 url을 받아서 했는데 페이지마다의 공통점을 찾는다면 baseurl과 plusurl로 구성하여 더욱 깔끔하게 코딩할 수 있었을 것이다.\n",
    "3. url을 뉴스기사가 아니라 네이버 뉴스에서 받아오므로 기사가 바뀔 때마다 결과가 달라질 수 있다."
   ]
  },
  {
   "cell_type": "markdown",
   "metadata": {},
   "source": [
    "## 참고 문헌"
   ]
  },
  {
   "cell_type": "markdown",
   "metadata": {},
   "source": []
  }
 ],
 "metadata": {
  "kernelspec": {
   "display_name": "Python 3",
   "language": "python",
   "name": "python3"
  },
  "language_info": {
   "codemirror_mode": {
    "name": "ipython",
    "version": 3
   },
   "file_extension": ".py",
   "mimetype": "text/x-python",
   "name": "python",
   "nbconvert_exporter": "python",
   "pygments_lexer": "ipython3",
   "version": "3.7.6"
  }
 },
 "nbformat": 4,
 "nbformat_minor": 4
}
